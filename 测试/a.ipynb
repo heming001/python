{
 "cells": [
  {
   "cell_type": "code",
   "execution_count": 25,
   "metadata": {},
   "outputs": [
    {
     "name": "stdout",
     "output_type": "stream",
     "text": [
      "<__main__.Student object at 0x00000246E1446300>\n",
      "{\"name\": \"Bob\", \"age\": 20, \"score\": 88}\n",
      "{\"name\": \"Bob\", \"age\": 20, \"score\": 88}\n"
     ]
    }
   ],
   "source": [
    "import json\n",
    "\n",
    "class Student(object):\n",
    " \n",
    "   def __init__(self,name,age,score):\n",
    "        self.name = name\n",
    "        self.age = age\n",
    "        self.score = score\n",
    "\n",
    "\n",
    "def student2dict(std):\n",
    "    return{\n",
    "        'name' : std.name,\n",
    "        'age' : std.age,\n",
    "        'score' : std.score\n",
    "    }       \n",
    "\n",
    "def dict2student(d):\n",
    "    return Student(d['name'],d['age'],d['score'])\n",
    "\n",
    "json_str = '{\"age\":20,\"score\":88,\"name\":\"Bob\"}'\n",
    "print(json.loads(json_str,object_hook=dict2student))\n",
    "\n",
    "s = Student('Bob',20,88)\n",
    "\n",
    "print(json.dumps(s,default=student2dict))\n",
    "print(json.dumps(s, default=lambda obj : obj.__dict__))"
   ]
  },
  {
   "cell_type": "code",
   "execution_count": 32,
   "metadata": {},
   "outputs": [
    {
     "name": "stdout",
     "output_type": "stream",
     "text": [
      "{\"name\": \"\\u5c0f\\u660e\", \"age\": 20}\n",
      "{\"name\": \"\\u5c0f\\u660e\", \"age\": 20}\n"
     ]
    }
   ],
   "source": [
    "import json\n",
    "\n",
    "obj = dict(name='小明', age=20)\n",
    "s = json.dumps(obj, ensure_ascii=True)\n",
    "print(s)\n",
    "\n",
    "obj = dict(name='小明', age=20)\n",
    "s = json.dumps(obj)\n",
    "print(s)"
   ]
  },
  {
   "cell_type": "code",
   "execution_count": null,
   "metadata": {},
   "outputs": [],
   "source": []
  }
 ],
 "metadata": {
  "kernelspec": {
   "display_name": "Python 3",
   "language": "python",
   "name": "python3"
  },
  "language_info": {
   "codemirror_mode": {
    "name": "ipython",
    "version": 3
   },
   "file_extension": ".py",
   "mimetype": "text/x-python",
   "name": "python",
   "nbconvert_exporter": "python",
   "pygments_lexer": "ipython3",
   "version": "3.12.4"
  }
 },
 "nbformat": 4,
 "nbformat_minor": 2
}
